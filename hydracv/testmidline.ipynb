{
 "cells": [
  {
   "cell_type": "code",
   "execution_count": 1,
   "metadata": {},
   "outputs": [],
   "source": [
    "import find_midline"
   ]
  },
  {
   "cell_type": "code",
   "execution_count": 2,
   "metadata": {},
   "outputs": [],
   "source": [
    "contour = find_midline.load_contour(\"data/contour/Control-EGCaMP_exp1_a1_30x10fps_5%.xml\")"
   ]
  },
  {
   "cell_type": "code",
   "execution_count": 3,
   "metadata": {},
   "outputs": [
    {
     "data": {
      "text/plain": [
       "0"
      ]
     },
     "execution_count": 3,
     "metadata": {},
     "output_type": "execute_result"
    }
   ],
   "source": [
    "len(contour)"
   ]
  },
  {
   "cell_type": "code",
   "execution_count": 4,
   "metadata": {},
   "outputs": [],
   "source": [
    "marker = find_midline.load_marker(\"data/marker/Control-EGCaMP_exp1_a1_30x10fps_5%_001DLC_resnet50_EGCaMPFeb14shuffle1_576000.csv\")"
   ]
  },
  {
   "cell_type": "code",
   "execution_count": 5,
   "metadata": {},
   "outputs": [
    {
     "data": {
      "text/plain": [
       "7489"
      ]
     },
     "execution_count": 5,
     "metadata": {},
     "output_type": "execute_result"
    }
   ],
   "source": [
    "len(marker)"
   ]
  },
  {
   "cell_type": "code",
   "execution_count": 6,
   "metadata": {},
   "outputs": [
    {
     "data": {
      "text/plain": [
       "[]"
      ]
     },
     "execution_count": 6,
     "metadata": {},
     "output_type": "execute_result"
    }
   ],
   "source": [
    "contour"
   ]
  },
  {
   "cell_type": "code",
   "execution_count": 7,
   "metadata": {},
   "outputs": [
    {
     "data": {
      "text/html": [
       "<div>\n",
       "<style scoped>\n",
       "    .dataframe tbody tr th:only-of-type {\n",
       "        vertical-align: middle;\n",
       "    }\n",
       "\n",
       "    .dataframe tbody tr th {\n",
       "        vertical-align: top;\n",
       "    }\n",
       "\n",
       "    .dataframe thead th {\n",
       "        text-align: right;\n",
       "    }\n",
       "</style>\n",
       "<table border=\"1\" class=\"dataframe\">\n",
       "  <thead>\n",
       "    <tr style=\"text-align: right;\">\n",
       "      <th></th>\n",
       "      <th>hypostome_x</th>\n",
       "      <th>hypostome_y</th>\n",
       "      <th>hypostome_likelihood</th>\n",
       "      <th>armpit1_x</th>\n",
       "      <th>armpit1_y</th>\n",
       "      <th>armpit1_likelihood</th>\n",
       "      <th>armpit2_x</th>\n",
       "      <th>armpit2_y</th>\n",
       "      <th>armpit2_likelihood</th>\n",
       "      <th>peduncle_x</th>\n",
       "      <th>peduncle_y</th>\n",
       "      <th>peduncle_likelihood</th>\n",
       "    </tr>\n",
       "  </thead>\n",
       "  <tbody>\n",
       "    <tr>\n",
       "      <th>0</th>\n",
       "      <td>320.466858</td>\n",
       "      <td>235.420792</td>\n",
       "      <td>1.0</td>\n",
       "      <td>298.149200</td>\n",
       "      <td>220.948624</td>\n",
       "      <td>1.0</td>\n",
       "      <td>312.907288</td>\n",
       "      <td>265.444580</td>\n",
       "      <td>1.0</td>\n",
       "      <td>171.842514</td>\n",
       "      <td>274.772644</td>\n",
       "      <td>1.0</td>\n",
       "    </tr>\n",
       "    <tr>\n",
       "      <th>1</th>\n",
       "      <td>320.981110</td>\n",
       "      <td>235.199112</td>\n",
       "      <td>1.0</td>\n",
       "      <td>298.418732</td>\n",
       "      <td>220.791229</td>\n",
       "      <td>1.0</td>\n",
       "      <td>313.227509</td>\n",
       "      <td>265.342255</td>\n",
       "      <td>1.0</td>\n",
       "      <td>171.776352</td>\n",
       "      <td>274.123566</td>\n",
       "      <td>1.0</td>\n",
       "    </tr>\n",
       "    <tr>\n",
       "      <th>2</th>\n",
       "      <td>321.400330</td>\n",
       "      <td>234.795044</td>\n",
       "      <td>1.0</td>\n",
       "      <td>298.670959</td>\n",
       "      <td>220.746277</td>\n",
       "      <td>1.0</td>\n",
       "      <td>313.600220</td>\n",
       "      <td>265.278473</td>\n",
       "      <td>1.0</td>\n",
       "      <td>171.569092</td>\n",
       "      <td>273.851166</td>\n",
       "      <td>1.0</td>\n",
       "    </tr>\n",
       "    <tr>\n",
       "      <th>3</th>\n",
       "      <td>321.881531</td>\n",
       "      <td>234.775177</td>\n",
       "      <td>1.0</td>\n",
       "      <td>298.848938</td>\n",
       "      <td>220.856339</td>\n",
       "      <td>1.0</td>\n",
       "      <td>313.961609</td>\n",
       "      <td>265.310364</td>\n",
       "      <td>1.0</td>\n",
       "      <td>171.465820</td>\n",
       "      <td>274.232666</td>\n",
       "      <td>1.0</td>\n",
       "    </tr>\n",
       "    <tr>\n",
       "      <th>4</th>\n",
       "      <td>322.326508</td>\n",
       "      <td>234.591583</td>\n",
       "      <td>1.0</td>\n",
       "      <td>298.947296</td>\n",
       "      <td>220.991577</td>\n",
       "      <td>1.0</td>\n",
       "      <td>314.504181</td>\n",
       "      <td>265.278381</td>\n",
       "      <td>1.0</td>\n",
       "      <td>171.517761</td>\n",
       "      <td>274.152588</td>\n",
       "      <td>1.0</td>\n",
       "    </tr>\n",
       "    <tr>\n",
       "      <th>...</th>\n",
       "      <td>...</td>\n",
       "      <td>...</td>\n",
       "      <td>...</td>\n",
       "      <td>...</td>\n",
       "      <td>...</td>\n",
       "      <td>...</td>\n",
       "      <td>...</td>\n",
       "      <td>...</td>\n",
       "      <td>...</td>\n",
       "      <td>...</td>\n",
       "      <td>...</td>\n",
       "      <td>...</td>\n",
       "    </tr>\n",
       "    <tr>\n",
       "      <th>7484</th>\n",
       "      <td>306.649506</td>\n",
       "      <td>241.775940</td>\n",
       "      <td>1.0</td>\n",
       "      <td>285.389801</td>\n",
       "      <td>211.718872</td>\n",
       "      <td>1.0</td>\n",
       "      <td>303.817169</td>\n",
       "      <td>272.502747</td>\n",
       "      <td>1.0</td>\n",
       "      <td>188.569061</td>\n",
       "      <td>276.319427</td>\n",
       "      <td>1.0</td>\n",
       "    </tr>\n",
       "    <tr>\n",
       "      <th>7485</th>\n",
       "      <td>306.425568</td>\n",
       "      <td>241.871078</td>\n",
       "      <td>1.0</td>\n",
       "      <td>285.021271</td>\n",
       "      <td>211.726257</td>\n",
       "      <td>1.0</td>\n",
       "      <td>303.607910</td>\n",
       "      <td>272.587769</td>\n",
       "      <td>1.0</td>\n",
       "      <td>188.527878</td>\n",
       "      <td>276.125641</td>\n",
       "      <td>1.0</td>\n",
       "    </tr>\n",
       "    <tr>\n",
       "      <th>7486</th>\n",
       "      <td>305.935669</td>\n",
       "      <td>241.990921</td>\n",
       "      <td>1.0</td>\n",
       "      <td>284.920624</td>\n",
       "      <td>211.731689</td>\n",
       "      <td>1.0</td>\n",
       "      <td>303.304993</td>\n",
       "      <td>272.107971</td>\n",
       "      <td>1.0</td>\n",
       "      <td>188.599564</td>\n",
       "      <td>276.099365</td>\n",
       "      <td>1.0</td>\n",
       "    </tr>\n",
       "    <tr>\n",
       "      <th>7487</th>\n",
       "      <td>305.688293</td>\n",
       "      <td>242.163254</td>\n",
       "      <td>1.0</td>\n",
       "      <td>284.715485</td>\n",
       "      <td>211.740417</td>\n",
       "      <td>1.0</td>\n",
       "      <td>303.030426</td>\n",
       "      <td>271.926849</td>\n",
       "      <td>1.0</td>\n",
       "      <td>188.652115</td>\n",
       "      <td>276.026764</td>\n",
       "      <td>1.0</td>\n",
       "    </tr>\n",
       "    <tr>\n",
       "      <th>7488</th>\n",
       "      <td>305.398926</td>\n",
       "      <td>242.165527</td>\n",
       "      <td>1.0</td>\n",
       "      <td>284.154358</td>\n",
       "      <td>211.728226</td>\n",
       "      <td>1.0</td>\n",
       "      <td>302.859650</td>\n",
       "      <td>272.231506</td>\n",
       "      <td>1.0</td>\n",
       "      <td>188.617218</td>\n",
       "      <td>276.267151</td>\n",
       "      <td>1.0</td>\n",
       "    </tr>\n",
       "  </tbody>\n",
       "</table>\n",
       "<p>7489 rows × 12 columns</p>\n",
       "</div>"
      ],
      "text/plain": [
       "      hypostome_x  hypostome_y  hypostome_likelihood   armpit1_x   armpit1_y  \\\n",
       "0      320.466858   235.420792                   1.0  298.149200  220.948624   \n",
       "1      320.981110   235.199112                   1.0  298.418732  220.791229   \n",
       "2      321.400330   234.795044                   1.0  298.670959  220.746277   \n",
       "3      321.881531   234.775177                   1.0  298.848938  220.856339   \n",
       "4      322.326508   234.591583                   1.0  298.947296  220.991577   \n",
       "...           ...          ...                   ...         ...         ...   \n",
       "7484   306.649506   241.775940                   1.0  285.389801  211.718872   \n",
       "7485   306.425568   241.871078                   1.0  285.021271  211.726257   \n",
       "7486   305.935669   241.990921                   1.0  284.920624  211.731689   \n",
       "7487   305.688293   242.163254                   1.0  284.715485  211.740417   \n",
       "7488   305.398926   242.165527                   1.0  284.154358  211.728226   \n",
       "\n",
       "      armpit1_likelihood   armpit2_x   armpit2_y  armpit2_likelihood  \\\n",
       "0                    1.0  312.907288  265.444580                 1.0   \n",
       "1                    1.0  313.227509  265.342255                 1.0   \n",
       "2                    1.0  313.600220  265.278473                 1.0   \n",
       "3                    1.0  313.961609  265.310364                 1.0   \n",
       "4                    1.0  314.504181  265.278381                 1.0   \n",
       "...                  ...         ...         ...                 ...   \n",
       "7484                 1.0  303.817169  272.502747                 1.0   \n",
       "7485                 1.0  303.607910  272.587769                 1.0   \n",
       "7486                 1.0  303.304993  272.107971                 1.0   \n",
       "7487                 1.0  303.030426  271.926849                 1.0   \n",
       "7488                 1.0  302.859650  272.231506                 1.0   \n",
       "\n",
       "      peduncle_x  peduncle_y  peduncle_likelihood  \n",
       "0     171.842514  274.772644                  1.0  \n",
       "1     171.776352  274.123566                  1.0  \n",
       "2     171.569092  273.851166                  1.0  \n",
       "3     171.465820  274.232666                  1.0  \n",
       "4     171.517761  274.152588                  1.0  \n",
       "...          ...         ...                  ...  \n",
       "7484  188.569061  276.319427                  1.0  \n",
       "7485  188.527878  276.125641                  1.0  \n",
       "7486  188.599564  276.099365                  1.0  \n",
       "7487  188.652115  276.026764                  1.0  \n",
       "7488  188.617218  276.267151                  1.0  \n",
       "\n",
       "[7489 rows x 12 columns]"
      ]
     },
     "execution_count": 7,
     "metadata": {},
     "output_type": "execute_result"
    }
   ],
   "source": [
    "marker"
   ]
  },
  {
   "cell_type": "code",
   "execution_count": 19,
   "metadata": {},
   "outputs": [],
   "source": [
    "from skimage import data\n",
    "from skimage.util import invert\n",
    "import matplotlib.pyplot as plt\n",
    "import numpy as np"
   ]
  },
  {
   "cell_type": "code",
   "execution_count": 17,
   "metadata": {},
   "outputs": [
    {
     "data": {
      "text/plain": [
       "<matplotlib.image.AxesImage at 0x7f49c9782e50>"
      ]
     },
     "execution_count": 17,
     "metadata": {},
     "output_type": "execute_result"
    },
    {
     "data": {
      "image/png": "[encoded data removed]",
      "text/plain": [
       "<Figure size 432x288 with 1 Axes>"
      ]
     },
     "metadata": {
      "needs_background": "light"
     },
     "output_type": "display_data"
    }
   ],
   "source": [
    "plt.imshow(invert(data.horse()))"
   ]
  },
  {
   "cell_type": "code",
   "execution_count": null,
   "metadata": {},
   "outputs": [],
   "source": []
  }
 ],
 "metadata": {
  "kernelspec": {
   "display_name": "Python 3",
   "language": "python",
   "name": "python3"
  },
  "language_info": {
   "codemirror_mode": {
    "name": "ipython",
    "version": 3
   },
   "file_extension": ".py",
   "mimetype": "text/x-python",
   "name": "python",
   "nbconvert_exporter": "python",
   "pygments_lexer": "ipython3",
   "version": "3.7.6"
  }
 },
 "nbformat": 4,
 "nbformat_minor": 4
}
